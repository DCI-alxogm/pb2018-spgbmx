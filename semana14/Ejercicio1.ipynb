{
 "cells": [
  {
   "cell_type": "code",
   "execution_count": 2,
   "metadata": {},
   "outputs": [],
   "source": [
    "#Ejercicio1: Ecuación del oscilador armónico"
   ]
  },
  {
   "cell_type": "code",
   "execution_count": 2,
   "metadata": {},
   "outputs": [],
   "source": [
    "import numpy as np\n",
    "import matplotlib.pyplot as plt\n",
    "#Para activar los graficos en el notebook\n",
    "%matplotlib inline     "
   ]
  },
  {
   "cell_type": "code",
   "execution_count": 50,
   "metadata": {},
   "outputs": [
    {
     "data": {
      "text/plain": [
       "array([ 0.        ,  0.6122449 ,  1.2244898 ,  1.83673469,  2.44897959,\n",
       "        3.06122449,  3.67346939,  4.28571429,  4.89795918,  5.51020408,\n",
       "        6.12244898,  6.73469388,  7.34693878,  7.95918367,  8.57142857,\n",
       "        9.18367347,  9.79591837, 10.40816327, 11.02040816, 11.63265306,\n",
       "       12.24489796, 12.85714286, 13.46938776, 14.08163265, 14.69387755,\n",
       "       15.30612245, 15.91836735, 16.53061224, 17.14285714, 17.75510204,\n",
       "       18.36734694, 18.97959184, 19.59183673, 20.20408163, 20.81632653,\n",
       "       21.42857143, 22.04081633, 22.65306122, 23.26530612, 23.87755102,\n",
       "       24.48979592, 25.10204082, 25.71428571, 26.32653061, 26.93877551,\n",
       "       27.55102041, 28.16326531, 28.7755102 , 29.3877551 , 30.        ])"
      ]
     },
     "execution_count": 50,
     "metadata": {},
     "output_type": "execute_result"
    }
   ],
   "source": [
    "T=30\n",
    "Tx=np.linspace(0,T,50)    #Periodo de oscilación\n",
    "W=(2*3.1416)/T     #Frecuencia angular\n",
    "h=5\n",
    "V=np.linspace(0,T,50)\n",
    "The=np.linspace(0,T,50)\n",
    "V"
   ]
  },
  {
   "cell_type": "code",
   "execution_count": 51,
   "metadata": {},
   "outputs": [
    {
     "data": {
      "text/plain": [
       "2.3898196897959187"
      ]
     },
     "execution_count": 51,
     "metadata": {},
     "output_type": "execute_result"
    }
   ],
   "source": [
    "Vx=lambda x:V[x]+h*(-W**2*The[x])\n",
    "Vx(5)"
   ]
  },
  {
   "cell_type": "code",
   "execution_count": 65,
   "metadata": {},
   "outputs": [],
   "source": [
    "They=lambda y:The[y]+h*V[y]"
   ]
  },
  {
   "cell_type": "code",
   "execution_count": 66,
   "metadata": {},
   "outputs": [
    {
     "data": {
      "text/plain": [
       "18.367346938775512"
      ]
     },
     "execution_count": 66,
     "metadata": {},
     "output_type": "execute_result"
    }
   ],
   "source": [
    "They(5)"
   ]
  },
  {
   "cell_type": "code",
   "execution_count": null,
   "metadata": {},
   "outputs": [],
   "source": []
  }
 ],
 "metadata": {
  "kernelspec": {
   "display_name": "Python 2",
   "language": "python",
   "name": "python2"
  },
  "language_info": {
   "codemirror_mode": {
    "name": "ipython",
    "version": 3
   },
   "file_extension": ".py",
   "mimetype": "text/x-python",
   "name": "python",
   "nbconvert_exporter": "python",
   "pygments_lexer": "ipython3",
   "version": "3.6.6"
  }
 },
 "nbformat": 4,
 "nbformat_minor": 2
}
